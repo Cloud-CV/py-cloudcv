{
 "cells": [
  {
   "cell_type": "markdown",
   "metadata": {},
   "source": [
    "## Start by importing PCloudCV module to run Python API for cloudcv"
   ]
  },
  {
   "cell_type": "code",
   "execution_count": 1,
   "metadata": {
    "collapsed": false
   },
   "outputs": [],
   "source": [
    "from cloudcv import CloudCV\n",
    "import utility.job as uj\n",
    "from IPython.display import display\n",
    "from IPython.display import display_pretty, display_html, display_jpeg, display_png, display_json, display_latex, display_svg\n",
    "from IPython.display import Image\n",
    "from IPython.display import HTML\n",
    "import os\n",
    "import json"
   ]
  },
  {
   "cell_type": "markdown",
   "metadata": {},
   "source": [
    "## Load the configuration file and mention the function you wish to run"
   ]
  },
  {
   "cell_type": "code",
   "execution_count": 2,
   "metadata": {
    "collapsed": false
   },
   "outputs": [],
   "source": [
    "config_path = os.path.join(os.getcwd(), 'config.json') #full path of the config.json file\n",
    "details = {'exec': 'classify'} #executable name\n"
   ]
  },
  {
   "cell_type": "markdown",
   "metadata": {},
   "source": [
    "## Start CloudCV Thread"
   ]
  },
  {
   "cell_type": "markdown",
   "metadata": {},
   "source": [
    "Starting the CloudCV is as easy as initializing the class with the config file path, dictionary containing parameters and a flag specifying whether to login through google or not.\n"
   ]
  },
  {
   "cell_type": "code",
   "execution_count": 3,
   "metadata": {
    "collapsed": false
   },
   "outputs": [
    {
     "name": "stderr",
     "output_type": "stream",
     "text": [
      "INFO:cherrypy.error:[02/Jul/2015:16:57:23] ENGINE Bus STARTING\n",
      "\u001b[32m[02/Jul/15 16:57:23] INFO   | SocketIOConnection | Starting Socket Connection Thread\u001b[0m\n",
      "INFO:pythonConfig:Starting Socket Connection Thread\n",
      "INFO:cherrypy.error:[02/Jul/2015:16:57:23] ENGINE Started monitor thread 'Autoreloader'.\n",
      "INFO:cherrypy.error:[02/Jul/2015:16:57:23] ENGINE Started monitor thread '_TimeoutMonitor'.\n",
      "INFO:requests.packages.urllib3.connectionpool:Starting new HTTP connection (1): cloudcv.org\n",
      "INFO:cherrypy.error:[02/Jul/2015:16:57:23] ENGINE Serving on http://0.0.0.0:8000\n",
      "INFO:cherrypy.error:[02/Jul/2015:16:57:23] ENGINE Bus STARTED\n",
      "DEBUG:requests.packages.urllib3.connectionpool:\"GET /socket.io/1/ HTTP/1.1\" 200 None\n",
      "\u001b[32m[02/Jul/15 16:57:27] INFO   | SocketIOConnection | Socket waiting started.\u001b[0m\n",
      "INFO:pythonConfig:Socket waiting started.\n",
      "\u001b[32m[02/Jul/15 16:57:27] INFO   | MainThread | Starting Post Request\u001b[0m\n",
      "INFO:pythonConfig:Starting Post Request\n",
      "INFO:requests.packages.urllib3.connectionpool:Starting new HTTP connection (1): cloudcv.org\n",
      "DEBUG:requests.packages.urllib3.connectionpool:\"GET /classify HTTP/1.1\" 301 None\n",
      "DEBUG:requests.packages.urllib3.connectionpool:\"GET /classify/ HTTP/1.1\" 200 None\n",
      "\u001b[33m[02/Jul/15 16:57:29] WARNING | MainThread | Resized image already present in the directory\u001b[0m\n",
      "WARNING:pythonConfig:Resized image already present in the directory\n",
      "\u001b[33m[02/Jul/15 16:57:29] WARNING | MainThread | No of files to be uploaded: 1\u001b[0m\n",
      "WARNING:pythonConfig:No of files to be uploaded: 1\n",
      "\u001b[32m[02/Jul/15 16:57:29] INFO   | MainThread | SocketID: TObN8h_nVnOlmjfJNKtd\u001b[0m\n",
      "INFO:pythonConfig:SocketID: TObN8h_nVnOlmjfJNKtd\n",
      "\u001b[37m[02/Jul/15 16:57:29] DEBUG  | MainThread | Starting The POST request\u001b[0m\n",
      "DEBUG:pythonConfig:Starting The POST request\n",
      "INFO:requests.packages.urllib3.connectionpool:Starting new HTTP connection (1): cloudcv.org\n",
      "\u001b[32m[02/Jul/15 16:57:30] INFO   | Thread-17 | Server: Post Request Recieved\u001b[0m\n",
      "INFO:pythonConfig:Server: Post Request Recieved\n",
      "\u001b[32m[02/Jul/15 16:57:30] INFO   | Thread-17 | Processing files\u001b[0m\n",
      "INFO:pythonConfig:Processing files\n",
      "\u001b[32m[02/Jul/15 16:57:30] INFO   | Thread-17 | Files Stored. Waiting for one of the worker nodes to handle this request\u001b[0m\n",
      "INFO:pythonConfig:Files Stored. Waiting for one of the worker nodes to handle this request\n",
      "\u001b[32m[02/Jul/15 16:57:30] INFO   | Thread-17 | {u'count': 1, u'result_path': u'/home/ubuntu/cloudcv/cloudcv17/cloudcv17/media/pictures/cloudcv/hnMpX3bTXm7eSDbpCsejPZ', u'image_path': u'/home/ubuntu/cloudcv/cloudcv17/cloudcv17/media/pictures/cloudcv/hnMpX3bTXm7eSDbpCsejPZ', u'exec': u'classify', u'url': u'/media/pictures/cloudcv/hnMpX3bTXm7eSDbpCsejPZ', u'socketid': u'TObN8h_nVnOlmjfJNKtd', u'dropbox_token': None, u'userid': u'', u'jobid': u'hnMpX3bTXm7eSDbpCsejPZ', u'source_type': u'local', u'token': u'qIU99nSIK7yAyTV0rXerdqvTzPs2HsP0', u'params': u'{}', u'dir': u'/home/ubuntu/cloudcv/cloudcv17/cloudcv17/media/pictures/cloudcv/hnMpX3bTXm7eSDbpCsejPZ'}\u001b[0m\n",
      "INFO:pythonConfig:{u'count': 1, u'result_path': u'/home/ubuntu/cloudcv/cloudcv17/cloudcv17/media/pictures/cloudcv/hnMpX3bTXm7eSDbpCsejPZ', u'image_path': u'/home/ubuntu/cloudcv/cloudcv17/cloudcv17/media/pictures/cloudcv/hnMpX3bTXm7eSDbpCsejPZ', u'exec': u'classify', u'url': u'/media/pictures/cloudcv/hnMpX3bTXm7eSDbpCsejPZ', u'socketid': u'TObN8h_nVnOlmjfJNKtd', u'dropbox_token': None, u'userid': u'', u'jobid': u'hnMpX3bTXm7eSDbpCsejPZ', u'source_type': u'local', u'token': u'qIU99nSIK7yAyTV0rXerdqvTzPs2HsP0', u'params': u'{}', u'dir': u'/home/ubuntu/cloudcv/cloudcv17/cloudcv17/media/pictures/cloudcv/hnMpX3bTXm7eSDbpCsejPZ'}\n",
      "DEBUG:requests.packages.urllib3.connectionpool:\"POST /api/ HTTP/1.1\" 200 None\n",
      "\u001b[33m[02/Jul/15 16:57:30] WARNING | MainThread | Please wait while CloudCV runs your job request\u001b[0m\n",
      "WARNING:pythonConfig:Please wait while CloudCV runs your job request\n",
      "\u001b[32m[02/Jul/15 16:57:30] INFO   | MainThread | Exiting From the Post Request Thread\u001b[0m\n",
      "INFO:pythonConfig:Exiting From the Post Request Thread\n",
      "\u001b[32m[02/Jul/15 16:57:30] INFO   | MainThread | Starting Post Request\u001b[0m\n",
      "INFO:pythonConfig:Starting Post Request\n",
      "INFO:requests.packages.urllib3.connectionpool:Starting new HTTP connection (1): cloudcv.org\n",
      "DEBUG:requests.packages.urllib3.connectionpool:\"GET /classify HTTP/1.1\" 301 None\n",
      "DEBUG:requests.packages.urllib3.connectionpool:\"GET /classify/ HTTP/1.1\" 200 None\n",
      "\u001b[33m[02/Jul/15 16:57:31] WARNING | MainThread | Resized image already present in the directory\u001b[0m\n",
      "WARNING:pythonConfig:Resized image already present in the directory\n",
      "\u001b[33m[02/Jul/15 16:57:31] WARNING | MainThread | Resized image already present in the directory\u001b[0m\n",
      "WARNING:pythonConfig:Resized image already present in the directory\n",
      "\u001b[33m[02/Jul/15 16:57:31] WARNING | MainThread | No of files to be uploaded: 2\u001b[0m\n",
      "WARNING:pythonConfig:No of files to be uploaded: 2\n",
      "\u001b[32m[02/Jul/15 16:57:31] INFO   | MainThread | SocketID: TObN8h_nVnOlmjfJNKtd\u001b[0m\n",
      "INFO:pythonConfig:SocketID: TObN8h_nVnOlmjfJNKtd\n",
      "\u001b[37m[02/Jul/15 16:57:31] DEBUG  | MainThread | Starting The POST request\u001b[0m\n",
      "DEBUG:pythonConfig:Starting The POST request\n",
      "INFO:requests.packages.urllib3.connectionpool:Starting new HTTP connection (1): cloudcv.org\n",
      "\u001b[32m[02/Jul/15 16:57:31] INFO   | Thread-17 | Received JobID: hnMpX3bTXm7eSDbpCsejPZ\u001b[0m\n",
      "INFO:pythonConfig:Received JobID: hnMpX3bTXm7eSDbpCsejPZ\n",
      "\u001b[32m[02/Jul/15 16:57:31] INFO   | Thread-17 | Data request from Server\u001b[0m\n",
      "INFO:pythonConfig:Data request from Server\n",
      "\u001b[37m[02/Jul/15 16:57:32] DEBUG  | Thread-17 | Data Received from Server\u001b[0m\n",
      "DEBUG:pythonConfig:Data Received from Server\n",
      "\u001b[32m[02/Jul/15 16:57:32] INFO   | Thread-17 | Server: Post Request Recieved\u001b[0m\n",
      "INFO:pythonConfig:Server: Post Request Recieved\n",
      "\u001b[32m[02/Jul/15 16:57:32] INFO   | Thread-17 | Processing files\u001b[0m\n",
      "INFO:pythonConfig:Processing files\n",
      "\u001b[32m[02/Jul/15 16:57:32] INFO   | Thread-17 | Files Stored. Waiting for one of the worker nodes to handle this request\u001b[0m\n",
      "INFO:pythonConfig:Files Stored. Waiting for one of the worker nodes to handle this request\n",
      "\u001b[32m[02/Jul/15 16:57:32] INFO   | Thread-17 | {u'count': 2, u'result_path': u'/home/ubuntu/cloudcv/cloudcv17/cloudcv17/media/pictures/cloudcv/ecKmLAVVZTgfJVn7zsXXdC', u'image_path': u'/home/ubuntu/cloudcv/cloudcv17/cloudcv17/media/pictures/cloudcv/ecKmLAVVZTgfJVn7zsXXdC', u'exec': u'classify', u'url': u'/media/pictures/cloudcv/ecKmLAVVZTgfJVn7zsXXdC', u'socketid': u'TObN8h_nVnOlmjfJNKtd', u'dropbox_token': None, u'userid': u'', u'jobid': u'ecKmLAVVZTgfJVn7zsXXdC', u'source_type': u'local', u'token': u'0MXSHrnohQ2dsutju6JxnzMDSgEiLKYW', u'params': u'{}', u'dir': u'/home/ubuntu/cloudcv/cloudcv17/cloudcv17/media/pictures/cloudcv/ecKmLAVVZTgfJVn7zsXXdC'}\u001b[0m\n",
      "INFO:pythonConfig:{u'count': 2, u'result_path': u'/home/ubuntu/cloudcv/cloudcv17/cloudcv17/media/pictures/cloudcv/ecKmLAVVZTgfJVn7zsXXdC', u'image_path': u'/home/ubuntu/cloudcv/cloudcv17/cloudcv17/media/pictures/cloudcv/ecKmLAVVZTgfJVn7zsXXdC', u'exec': u'classify', u'url': u'/media/pictures/cloudcv/ecKmLAVVZTgfJVn7zsXXdC', u'socketid': u'TObN8h_nVnOlmjfJNKtd', u'dropbox_token': None, u'userid': u'', u'jobid': u'ecKmLAVVZTgfJVn7zsXXdC', u'source_type': u'local', u'token': u'0MXSHrnohQ2dsutju6JxnzMDSgEiLKYW', u'params': u'{}', u'dir': u'/home/ubuntu/cloudcv/cloudcv17/cloudcv17/media/pictures/cloudcv/ecKmLAVVZTgfJVn7zsXXdC'}\n",
      "DEBUG:requests.packages.urllib3.connectionpool:\"POST /api/ HTTP/1.1\" 200 None\n",
      "\u001b[33m[02/Jul/15 16:57:32] WARNING | MainThread | Please wait while CloudCV runs your job request\u001b[0m\n",
      "WARNING:pythonConfig:Please wait while CloudCV runs your job request\n",
      "\u001b[32m[02/Jul/15 16:57:32] INFO   | MainThread | Exiting From the Post Request Thread\u001b[0m\n",
      "INFO:pythonConfig:Exiting From the Post Request Thread\n"
     ]
    },
    {
     "name": "stdout",
     "output_type": "stream",
     "text": [
      "[Message] {u'visit': 369, u'socketid': u'TObN8h_nVnOlmjfJNKtd'}\n",
      "+-------+-----------------------+-------------+\n",
      "| Image |       Prediction      | Probability |\n",
      "+-------+-----------------------+-------------+\n",
      "| c.JPG | rocking chair, rocker |   0.501561  |\n",
      "| c.JPG |     folding chair     |   0.271872  |\n",
      "| c.JPG |  dining table, board  |   0.116047  |\n",
      "| c.JPG |       guillotine      |  0.0368464  |\n",
      "| c.JPG |         shoji         |  0.0085483  |\n",
      "+-------+-----------------------+-------------+\n",
      "+-----------+--------------------------------------------+-------------+\n",
      "|   Image   |                 Prediction                 | Probability |\n",
      "+-----------+--------------------------------------------+-------------+\n",
      "|   c.JPG   |           rocking chair, rocker            |   0.501561  |\n",
      "|   c.JPG   |               folding chair                |   0.271872  |\n",
      "|   c.JPG   |            dining table, board             |   0.116047  |\n",
      "|   c.JPG   |                 guillotine                 |  0.0368464  |\n",
      "|   c.JPG   |                   shoji                    |  0.0085483  |\n",
      "| tiger.jpg |           tiger, Panthera tigris           |   0.816462  |\n",
      "| tiger.jpg |                 tiger cat                  |   0.18305   |\n",
      "| tiger.jpg | jaguar, panther, Panthera onca, Felis onca | 0.000375903 |\n",
      "| tiger.jpg |          leopard, Panthera pardus          | 9.34639e-05 |\n",
      "| tiger.jpg |              tabby, tabby cat              | 8.36742e-06 |\n",
      "+-----------+--------------------------------------------+-------------+\n",
      "Lost connection (Connection closed)\n"
     ]
    },
    {
     "name": "stderr",
     "output_type": "stream",
     "text": [
      "\u001b[32m[02/Jul/15 16:57:35] INFO   | Thread-17 | Received JobID: ecKmLAVVZTgfJVn7zsXXdC\u001b[0m\n",
      "INFO:pythonConfig:Received JobID: ecKmLAVVZTgfJVn7zsXXdC\n",
      "\u001b[32m[02/Jul/15 16:57:35] INFO   | Thread-17 | Data request from Server\u001b[0m\n",
      "INFO:pythonConfig:Data request from Server\n",
      "\u001b[37m[02/Jul/15 16:57:36] DEBUG  | Thread-17 | Data Received from Server\u001b[0m\n",
      "DEBUG:pythonConfig:Data Received from Server\n",
      "\u001b[32m[02/Jul/15 16:58:03] INFO   | SocketIOConnection | Socket waiting finished.\u001b[0m\n",
      "INFO:pythonConfig:Socket waiting finished.\n",
      "\u001b[32m[02/Jul/15 16:58:03] INFO   | SocketIOConnection | Exiting Socket Connection Thread\u001b[0m\n",
      "INFO:pythonConfig:Exiting Socket Connection Thread\n"
     ]
    }
   ],
   "source": [
    "cv = CloudCV(True)\n",
    "cv.execute(config_path, details)\n",
    "details = {'input':'local: /home/shubham/Pictures/test_download/4','output':'/home/shubham/Pictures/test_download/','exec':'classify'}\n",
    "cv.execute(config_path, details)\n",
    "cv.exit(30)"
   ]
  },
  {
   "cell_type": "markdown",
   "metadata": {},
   "source": [
    "## Visualize Results Here"
   ]
  },
  {
   "cell_type": "code",
   "execution_count": 6,
   "metadata": {
    "collapsed": false
   },
   "outputs": [
    {
     "data": {
      "text/html": [
       "<iframe src=\"http://localhost:8000/classify_output\" width=1000 height=1000 ></iframe>"
      ],
      "text/plain": [
       "<IPython.core.display.HTML object>"
      ]
     },
     "execution_count": 6,
     "metadata": {},
     "output_type": "execute_result"
    },
    {
     "name": "stderr",
     "output_type": "stream",
     "text": [
      "INFO:cherrypy.access.140709371116816:127.0.0.1 - - [02/Jul/2015:16:59:02] \"GET /classify_output HTTP/1.1\" 200 6302 \"http://localhost:8888/notebooks/Classification%20Visualization.ipynb\" \"Mozilla/5.0 (X11; Linux x86_64) AppleWebKit/537.36 (KHTML, like Gecko) Chrome/41.0.2272.76 Safari/537.36\"\n"
     ]
    }
   ],
   "source": [
    "from IPython.display import HTML\n",
    "HTML('<iframe src=\"http://localhost:8000/classify_output\" width=1000 height=1000 ></iframe>')\n"
   ]
  },
  {
   "cell_type": "code",
   "execution_count": null,
   "metadata": {
    "collapsed": true
   },
   "outputs": [],
   "source": []
  }
 ],
 "metadata": {
  "kernelspec": {
   "display_name": "Python 2",
   "language": "python",
   "name": "python2"
  },
  "language_info": {
   "codemirror_mode": {
    "name": "ipython",
    "version": 2
   },
   "file_extension": ".py",
   "mimetype": "text/x-python",
   "name": "python",
   "nbconvert_exporter": "python",
   "pygments_lexer": "ipython2",
   "version": "2.7.6"
  }
 },
 "nbformat": 4,
 "nbformat_minor": 0
}
