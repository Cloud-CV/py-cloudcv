{
 "metadata": {
  "name": "",
  "signature": "sha256:9a00ab81e4b336908e1e951317b2c517958cb89197bcdf775cc7ae5122ac2e7f"
 },
 "nbformat": 3,
 "nbformat_minor": 0,
 "worksheets": [
  {
   "cells": [
    {
     "cell_type": "markdown",
     "metadata": {},
     "source": [
      "Start by importing PCloudCV module to run Python API for cloudcv"
     ]
    },
    {
     "cell_type": "code",
     "collapsed": false,
     "input": [
      "from pcloudcv import PCloudCV\n"
     ],
     "language": "python",
     "metadata": {},
     "outputs": [],
     "prompt_number": 3
    },
    {
     "cell_type": "code",
     "collapsed": false,
     "input": [
      "import os\n",
      "config_path = os.path.join(os.getcwd(), 'config.json') #full path of the config.json file\n",
      "dict = {'exec': 'classify'}"
     ],
     "language": "python",
     "metadata": {},
     "outputs": [],
     "prompt_number": 4
    },
    {
     "cell_type": "markdown",
     "metadata": {},
     "source": [
      "Starting the CloudCV is as easy initializing the class with the config file path, dictionary containing parameters and a flag specifying whether to login through google or not.\n"
     ]
    },
    {
     "cell_type": "code",
     "collapsed": false,
     "input": [
      "p = PCloudCV(config_path, dict, True)\n",
      "p.start()"
     ],
     "language": "python",
     "metadata": {},
     "outputs": [
      {
       "output_type": "stream",
       "stream": "stderr",
       "text": [
        "INFO:cherrypy.error:[20/Jun/2014:11:05:16] ENGINE Bus STARTING\n",
        "CherryPy Checker:\n",
        "The Application mounted at '' has an empty config.\n",
        "\n",
        "INFO:cherrypy.error:[20/Jun/2014:11:05:16] ENGINE Started monitor thread '_TimeoutMonitor'.\n"
       ]
      },
      {
       "output_type": "stream",
       "stream": "stderr",
       "text": [
        "INFO:cherrypy.error:[20/Jun/2014:11:05:16] ENGINE Started monitor thread 'Autoreloader'.\n"
       ]
      },
      {
       "output_type": "stream",
       "stream": "stderr",
       "text": [
        "INFO:cherrypy.error:[20/Jun/2014:11:05:16] ENGINE Serving on 127.0.0.1:8000\n",
        "INFO:cherrypy.error:[20/Jun/2014:11:05:16] ENGINE Bus STARTED\n"
       ]
      },
      {
       "output_type": "stream",
       "stream": "stdout",
       "text": [
        "/home/dexter/workspace/pcloudcv/pcloudcv/config.cfg\n",
        "67d4ce7c-7c44-11e3-bedb-00259059abc7\n",
        "User Authenticated\n",
        "Welcome harsh\n"
       ]
      },
      {
       "output_type": "stream",
       "stream": "stdout",
       "text": [
        "\u001b[35mStarting Listening to Redis Channel for HTTP Post Requests\n",
        "\u001b[39m\n",
        "\u001b[35mListening to Redis Channel\n",
        "\u001b[39m\n",
        "\u001b[35mStarting Socket Connection Thread\n",
        "\u001b[39m\n",
        "\u001b[35mStarting Post Request\n"
       ]
      },
      {
       "output_type": "stream",
       "stream": "stdout",
       "text": [
        "\u001b[39m\n"
       ]
      },
      {
       "output_type": "stream",
       "stream": "stdout",
       "text": [
        "Connected using websockets\n",
        "SocketID:  UQhvqsULqCzUP96ugZR4\n",
        "Resized image already present in the directory\n",
        "\u001b[36mSource Path: local: /home/dexter/Pictures/test_download/4\n",
        "\u001b[39m\n",
        "\u001b[36mExecutable: classify\n",
        "\u001b[39m\n",
        "\u001b[36mExecutable Params: {}\n",
        "\u001b[39m\n",
        "SocketID:  UQhvqsULqCzUP96ugZR4\n"
       ]
      },
      {
       "output_type": "stream",
       "stream": "stdout",
       "text": [
        "\u001b[36mStarting The POST request\n",
        "\u001b[39m\n"
       ]
      },
      {
       "output_type": "stream",
       "stream": "stdout",
       "text": [
        "\u001b[36mResponse:   sent for execution\n",
        "\u001b[39m\n",
        "\u001b[36mInfo:   Please wait while CloudCV runs your job request\n",
        "\u001b[39m\n",
        "\u001b[35mExiting From the Post Request Thread\n",
        "\u001b[39m\n",
        "{'result_path': '/var/www/html/cloudcv/fileupload/media/pictures/67d4ce7c-7c44-11e3-bedb-00259059abc7/2pNagHzygrgjASjg2DUtbB', 'count': '1', 'image_path': '/var/www/html/cloudcv/fileupload/media/pictures/67d4ce7c-7c44-11e3-bedb-00259059abc7/2pNagHzygrgjASjg2DUtbB', 'exec': 'classify', 'url': 'http://godel.ece.vt.edu/cloudcv/fileupload/media/pictures/67d4ce7c-7c44-11e3-bedb-00259059abc7/2pNagHzygrgjASjg2DUtbB', 'socketid': 'UQhvqsULqCzUP96ugZR4', 'dropbox_token': None, 'userid': '67d4ce7c-7c44-11e3-bedb-00259059abc7', 'jobid': '2pNagHzygrgjASjg2DUtbB', 'source_type': 'local', 'token': '45d0b5cf0395fa89c083a2034c4b0a2d', 'params': '{}', 'dir': '/var/www/html/cloudcv/fileupload/media/pictures/67d4ce7c-7c44-11e3-bedb-00259059abc7/2pNagHzygrgjASjg2DUtbB'}\n"
       ]
      },
      {
       "output_type": "stream",
       "stream": "stdout",
       "text": [
        "\u001b[34mClassification Complete\n",
        "\u001b[39m\n",
        "\u001b[34m{\"000084.jpg\": {\"tank, army tank, armored combat vehicle, armoured combat vehicle\": \"0.0600742\", \"recreational vehicle, RV, R.V.\": \"0.026014\", \"jeep, landrover\": \"0.0246301\", \"crane\": \"0.0112582\", \"mobile home, manufactured home\": \"0.509468\"}}\n",
        "\u001b[39m\n",
        "\u001b[35mExiting Redis Thread for HTTP Post requests\n",
        "\u001b[39m\n",
        "Lost connection (Connection closed)\n",
        "\u001b[35mEnding Listing to Redis Channel\n",
        "\u001b[39m\n",
        "\u001b[35mExiting Socket Connection Thread\n",
        "\u001b[39m\n"
       ]
      },
      {
       "output_type": "stream",
       "stream": "stderr",
       "text": [
        "INFO:cherrypy.error:[20/Jun/2014:11:06:11] ENGINE Bus STOPPING\n"
       ]
      },
      {
       "output_type": "stream",
       "stream": "stderr",
       "text": [
        "INFO:cherrypy.error:[20/Jun/2014:11:06:11] ENGINE HTTP Server cherrypy._cpwsgi_server.CPWSGIServer(('127.0.0.1', 8000)) shut down\n",
        "INFO:cherrypy.error:[20/Jun/2014:11:06:11] ENGINE Stopped thread '_TimeoutMonitor'.\n",
        "INFO:cherrypy.error:[20/Jun/2014:11:06:11] ENGINE Stopped thread 'Autoreloader'.\n",
        "INFO:cherrypy.error:[20/Jun/2014:11:06:11] ENGINE Bus STOPPED\n",
        "INFO:cherrypy.error:[20/Jun/2014:11:06:11] ENGINE Bus EXITING\n",
        "INFO:cherrypy.error:[20/Jun/2014:11:06:11] ENGINE Bus EXITED\n",
        "INFO:cherrypy.error:[20/Jun/2014:11:06:11] ENGINE HTTP Server cherrypy._cpwsgi_server.CPWSGIServer(('127.0.0.1', 8000)) already shut down\n",
        "INFO:cherrypy.error:[20/Jun/2014:11:06:11] ENGINE Bus STOPPING\n",
        "INFO:cherrypy.error:[20/Jun/2014:11:06:11] ENGINE HTTP Server cherrypy._cpwsgi_server.CPWSGIServer(('127.0.0.1', 8000)) already shut down\n",
        "INFO:cherrypy.error:[20/Jun/2014:11:06:11] ENGINE No thread running for None.\n",
        "INFO:cherrypy.error:[20/Jun/2014:11:06:11] ENGINE No thread running for None.\n",
        "INFO:cherrypy.error:[20/Jun/2014:11:06:11] ENGINE Bus STOPPED\n",
        "INFO:cherrypy.error:[20/Jun/2014:11:06:11] ENGINE Bus EXITING\n",
        "INFO:cherrypy.error:[20/Jun/2014:11:06:11] ENGINE Bus EXITED\n"
       ]
      },
      {
       "output_type": "stream",
       "stream": "stderr",
       "text": [
        "INFO:cherrypy.error:[20/Jun/2014:11:06:11] ENGINE Waiting for child threads to terminate...\n",
        "INFO:cherrypy.error:[20/Jun/2014:11:06:11] ENGINE Waiting for thread MainThread.\n"
       ]
      }
     ],
     "prompt_number": 5
    },
    {
     "cell_type": "code",
     "collapsed": false,
     "input": [
      "import utility.job as uj\n",
      "import demo.demo_visualize as dv\n",
      "dv.visualize_classification(uj.job.output)"
     ],
     "language": "python",
     "metadata": {},
     "outputs": [
      {
       "output_type": "stream",
       "stream": "stdout",
       "text": [
        "(500, 375)\n"
       ]
      }
     ]
    }
   ],
   "metadata": {}
  }
 ]
}