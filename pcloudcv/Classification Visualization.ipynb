{
 "metadata": {
  "name": "",
  "signature": "sha256:7042ce0ec75c914aef36bf68d134ddda2c69091cff65fe3bfecc14b654cb8900"
 },
 "nbformat": 3,
 "nbformat_minor": 0,
 "worksheets": [
  {
   "cells": [
    {
     "cell_type": "markdown",
     "metadata": {},
     "source": [
      "Start by importing PCloudCV module to run Python API for cloudcv"
     ]
    },
    {
     "cell_type": "code",
     "collapsed": false,
     "input": [
      "from pcloudcv import PCloudCV\n",
      "import utility.job as uj\n",
      "from IPython.display import display\n",
      "from IPython.display import display_pretty, display_html, display_jpeg, display_png, display_json, display_latex, display_svg\n",
      "from IPython.display import Image\n",
      "from IPython.display import HTML\n",
      "import json"
     ],
     "language": "python",
     "metadata": {},
     "outputs": [
      {
       "output_type": "stream",
       "stream": "stdout",
       "text": [
        "Added Path: /home/parallels/workspace/pcloudcv/pcloudcv\n"
       ]
      }
     ],
     "prompt_number": 1
    },
    {
     "cell_type": "code",
     "collapsed": false,
     "input": [
      "import os\n",
      "config_path = os.path.join(os.getcwd(), 'config.json') #full path of the config.json file\n",
      "dict = {'exec': 'classify'}"
     ],
     "language": "python",
     "metadata": {},
     "outputs": [],
     "prompt_number": 2
    },
    {
     "cell_type": "markdown",
     "metadata": {},
     "source": [
      "Starting the CloudCV is as easy initializing the class with the config file path, dictionary containing parameters and a flag specifying whether to login through google or not.\n"
     ]
    },
    {
     "cell_type": "code",
     "collapsed": false,
     "input": [
      "p = PCloudCV(config_path, dict, True)\n",
      "p.start()"
     ],
     "language": "python",
     "metadata": {},
     "outputs": [
      {
       "output_type": "stream",
       "stream": "stderr",
       "text": [
        "INFO:cherrypy.error:[19/Feb/2015:22:06:21] ENGINE Bus STARTING\n",
        "CherryPy Checker:\n",
        "The Application mounted at '' has an empty config.\n",
        "\n",
        "INFO:cherrypy.error:[19/Feb/2015:22:06:21] ENGINE Started monitor thread 'Autoreloader'.\n"
       ]
      },
      {
       "output_type": "stream",
       "stream": "stderr",
       "text": [
        "INFO:cherrypy.error:[19/Feb/2015:22:06:21] ENGINE Started monitor thread '_TimeoutMonitor'.\n"
       ]
      },
      {
       "output_type": "stream",
       "stream": "stdout",
       "text": [
        "/home/parallels/workspace/pcloudcv/pcloudcv/config.cfg\n",
        "2eb315c2-ae39-11e4-b6e7-22000aecbe9d\n",
        "User Authenticated\n",
        "Welcome harsh\n"
       ]
      },
      {
       "output_type": "stream",
       "stream": "stderr",
       "text": [
        "INFO:cherrypy.error:[19/Feb/2015:22:06:21] ENGINE Serving on http://127.0.0.1:8000\n"
       ]
      },
      {
       "output_type": "stream",
       "stream": "stderr",
       "text": [
        "INFO:cherrypy.error:[19/Feb/2015:22:06:21] ENGINE Bus STARTED\n"
       ]
      },
      {
       "output_type": "stream",
       "stream": "stdout",
       "text": [
        "\u001b[35mStarting Listening to Redis Channel for HTTP Post Requests\n",
        "\u001b[39m\n",
        "\u001b[35mListening to Redis Channel\n",
        "\u001b[39m\n",
        "\u001b[35mStarting Socket Connection Thread\n",
        "\u001b[39m\n",
        "Connected using websockets\n"
       ]
      },
      {
       "output_type": "stream",
       "stream": "stdout",
       "text": [
        "SocketID:  -838VSrEcfiBLDauoFIl\n",
        "\u001b[35mStarting Post Request\n",
        "\u001b[39m\n"
       ]
      },
      {
       "output_type": "stream",
       "stream": "stdout",
       "text": [
        "zRqM8fbx0oWdkxrxZPbes9kK5Uw1bw60\n",
        "zRqM8fbx0oWdkxrxZPbes9kK5Uw1bw60\n",
        "Resized image already present in the directory\n",
        "Resized image already present in the directory\n",
        "Resized image already present in the directory\n",
        "Resized image already present in the directory\n",
        "Resized image already present in the directory\n",
        "Resized image already present in the directory\n",
        "No of files to be uploaded:  6\n",
        "\u001b[36mSource Path: local: /home/parallels/Public/ImageStitch\n",
        "\u001b[39m\n",
        "\u001b[36mExecutable: classify\n",
        "\u001b[39m\n",
        "\u001b[36mExecutable Params: {}\n",
        "\u001b[39m\n",
        "SocketID:  -838VSrEcfiBLDauoFIl\n",
        "\u001b[36mStarting The POST request\n",
        "\u001b[39m\n",
        "\u001b[34mServer: Post Request Recieved\n",
        "\u001b[39m\n"
       ]
      },
      {
       "output_type": "stream",
       "stream": "stdout",
       "text": [
        "\u001b[34mProcessing files\n",
        "\u001b[39m\n",
        "\u001b[34mFiles Stored. Waiting for one of the worker nodes to handle this request\n",
        "\u001b[39m\n",
        "\u001b[36mInfo:   Please wait while CloudCV runs your job request\n",
        "\u001b[39m\n",
        "\u001b[35mExiting From the Post Request Thread\n",
        "\u001b[39m\n",
        "{u'count': 6, u'result_path': u'/home/ubuntu/cloudcv/cloudcv17/cloudcv17/media/pictures/2eb315c2-ae39-11e4-b6e7-22000aecbe9d/gqUzgwFFYz6ymdKjFXqxRB', u'image_path': u'/home/ubuntu/cloudcv/cloudcv17/cloudcv17/media/pictures/2eb315c2-ae39-11e4-b6e7-22000aecbe9d/gqUzgwFFYz6ymdKjFXqxRB', u'exec': u'classify', u'url': u'/media/pictures/2eb315c2-ae39-11e4-b6e7-22000aecbe9d/gqUzgwFFYz6ymdKjFXqxRB', u'socketid': u'-838VSrEcfiBLDauoFIl', u'dropbox_token': None, u'userid': u'2eb315c2-ae39-11e4-b6e7-22000aecbe9d', u'jobid': u'gqUzgwFFYz6ymdKjFXqxRB', u'source_type': u'local', u'token': u'zRqM8fbx0oWdkxrxZPbes9kK5Uw1bw60', u'params': u'{}', u'dir': u'/home/ubuntu/cloudcv/cloudcv17/cloudcv17/media/pictures/2eb315c2-ae39-11e4-b6e7-22000aecbe9d/gqUzgwFFYz6ymdKjFXqxRB'}\n"
       ]
      },
      {
       "output_type": "stream",
       "stream": "stdout",
       "text": [
        "Received JobID: gqUzgwFFYz6ymdKjFXqxRB\n",
        "Data request from Server\n",
        "\u001b[34m{\"P1020366.jpg\": {\"cliff, drop, drop-off\": \"0.0705066\", \"African crocodile, Nile crocodile, Crocodylus niloticus\": \"0.0817356\", \"valley, vale\": \"0.0751145\", \"maze, labyrinth\": \"0.270953\", \"alp\": \"0.0953667\"}, \"P1020358.jpg\": {\"viaduct\": \"0.0110235\", \"cliff, drop, drop-off\": \"0.0401314\", \"valley, vale\": \"0.635605\", \"stone wall\": \"0.0443496\", \"alp\": \"0.232835\"}, \"P1020360.jpg\": {\"ptarmigan\": \"0.0478542\", \"bighorn, bighorn sheep, cimarron, Rocky Mountain bighorn, Rocky Mountain sheep, Ovis canadensis\": \"0.114848\", \"alp\": \"0.0478579\", \"clumber, clumber spaniel\": \"0.0503979\", \"English setter\": \"0.0490144\"}, \"P1020359.jpg\": {\"little blue heron, Egretta caerulea\": \"0.0197174\", \"clumber, clumber spaniel\": \"0.0315598\", \"hippopotamus, hippo, river horse, Hippopotamus amphibius\": \"0.0801079\", \"American egret, great white heron, Egretta albus\": \"0.0750364\", \"lakeside, lakeshore\": \"0.400749\"}, \"P1020361.jpg\": {\"volcano\": \"0.0386222\", \"marmot\": \"0.0331902\", \"cliff, drop, drop-off\": \"0.355963\", \"alp\": \"0.195742\", \"promontory, headland, head, foreland\": \"0.123811\"}, \"P1020363.jpg\": {\"barracouta, snoek\": \"0.0523268\", \"ptarmigan\": \"0.0539056\", \"West Highland white terrier\": \"0.0380103\", \"clumber, clumber spaniel\": \"0.0554967\", \"lakeside, lakeshore\": \"0.24021\"}}\n",
        "\u001b[39m\n",
        "Data Received from Server\n",
        "\u001b[35mExiting Redis Thread for HTTP Post requests\n",
        "\u001b[39m\n",
        "Lost connection (Connection closed)\n",
        "\u001b[35mEnding Listing to Redis Channel\n",
        "\u001b[39m\n",
        "Socket waiting finished. \n",
        "\n",
        "\u001b[35mExiting Socket Connection Thread\n",
        "\u001b[39m\n"
       ]
      },
      {
       "output_type": "stream",
       "stream": "stderr",
       "text": [
        "ERROR:cherrypy.error.139912828535312:[19/Feb/2015:22:08:41] HTTP Traceback (most recent call last):\n",
        "  File \"/home/parallels/workspace/client_env/local/lib/python2.7/site-packages/cherrypy/_cprequest.py\", line 670, in respond\n",
        "    response.body = self.handler()\n",
        "  File \"/home/parallels/workspace/client_env/local/lib/python2.7/site-packages/cherrypy/lib/encoding.py\", line 217, in __call__\n",
        "    self.body = self.oldhandler(*args, **kwargs)\n",
        "  File \"/home/parallels/workspace/client_env/local/lib/python2.7/site-packages/cherrypy/_cpdispatch.py\", line 61, in __call__\n",
        "    return self.callable(*self.args, **self.kwargs)\n",
        "  File \"connections/local_server.py\", line 79, in classify_output\n",
        "    return template.render(imagepath=job.job.jobinfo['imagepath'], output_dict=output_dict)\n",
        "KeyError: 'imagepath'\n",
        "\n",
        "INFO:cherrypy.error.139912828535312:[19/Feb/2015:22:08:41] HTTP \n",
        "Request Headers:\n",
        "  COOKIE: csrftoken=5XdKgloyVJHYPBOB86dIw0APjhPu8S9D\n",
        "  HOST: localhost:8000\n",
        "  CONNECTION: keep-alive\n",
        "  CACHE-CONTROL: max-age=0\n",
        "  Remote-Addr: 127.0.0.1\n",
        "  ACCEPT: text/html,application/xhtml+xml,application/xml;q=0.9,image/webp,*/*;q=0.8\n",
        "  USER-AGENT: Mozilla/5.0 (X11; Linux x86_64) AppleWebKit/537.36 (KHTML, like Gecko) Chrome/39.0.2171.99 Safari/537.36\n",
        "  ACCEPT-LANGUAGE: en-US,en;q=0.8\n",
        "  ACCEPT-ENCODING: gzip, deflate, sdch\n",
        "INFO:cherrypy.access.139912828535312:127.0.0.1 - - [19/Feb/2015:22:08:41] \"GET /classify_output HTTP/1.1\" 500 1553 \"\" \"Mozilla/5.0 (X11; Linux x86_64) AppleWebKit/537.36 (KHTML, like Gecko) Chrome/39.0.2171.99 Safari/537.36\"\n"
       ]
      },
      {
       "output_type": "stream",
       "stream": "stderr",
       "text": [
        "ERROR:cherrypy.error.139912828535312:[19/Feb/2015:22:08:48] HTTP Traceback (most recent call last):\n",
        "  File \"/home/parallels/workspace/client_env/local/lib/python2.7/site-packages/cherrypy/_cprequest.py\", line 670, in respond\n",
        "    response.body = self.handler()\n",
        "  File \"/home/parallels/workspace/client_env/local/lib/python2.7/site-packages/cherrypy/lib/encoding.py\", line 217, in __call__\n",
        "    self.body = self.oldhandler(*args, **kwargs)\n",
        "  File \"/home/parallels/workspace/client_env/local/lib/python2.7/site-packages/cherrypy/_cpdispatch.py\", line 61, in __call__\n",
        "    return self.callable(*self.args, **self.kwargs)\n",
        "  File \"connections/local_server.py\", line 79, in classify_output\n",
        "    return template.render(imagepath=job.job.jobinfo['imagepath'], output_dict=output_dict)\n",
        "KeyError: 'imagepath'\n",
        "\n",
        "INFO:cherrypy.error.139912828535312:[19/Feb/2015:22:08:48] HTTP \n",
        "Request Headers:\n",
        "  COOKIE: csrftoken=5XdKgloyVJHYPBOB86dIw0APjhPu8S9D\n",
        "  HOST: localhost:8000\n",
        "  CONNECTION: keep-alive\n",
        "  CACHE-CONTROL: max-age=0\n",
        "  Remote-Addr: 127.0.0.1\n",
        "  ACCEPT: text/html,application/xhtml+xml,application/xml;q=0.9,image/webp,*/*;q=0.8\n",
        "  USER-AGENT: Mozilla/5.0 (X11; Linux x86_64) AppleWebKit/537.36 (KHTML, like Gecko) Chrome/39.0.2171.99 Safari/537.36\n",
        "  ACCEPT-LANGUAGE: en-US,en;q=0.8\n",
        "  ACCEPT-ENCODING: gzip, deflate, sdch\n"
       ]
      },
      {
       "output_type": "stream",
       "stream": "stderr",
       "text": [
        "INFO:cherrypy.access.139912828535312:127.0.0.1 - - [19/Feb/2015:22:08:48] \"GET /classify_output HTTP/1.1\" 500 1553 \"\" \"Mozilla/5.0 (X11; Linux x86_64) AppleWebKit/537.36 (KHTML, like Gecko) Chrome/39.0.2171.99 Safari/537.36\"\n"
       ]
      }
     ],
     "prompt_number": 3
    }
   ],
   "metadata": {}
  }
 ]
}