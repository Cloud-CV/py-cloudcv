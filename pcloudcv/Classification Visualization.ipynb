{
 "metadata": {
  "name": "",
  "signature": "sha256:4c4ad012eed2ec64fb52b955f7dd564a9d8fa8a81ab0efc86d914c5cad986a22"
 },
 "nbformat": 3,
 "nbformat_minor": 0,
 "worksheets": [
  {
   "cells": [
    {
     "cell_type": "heading",
     "level": 2,
     "metadata": {},
     "source": [
      "Start by importing PCloudCV module to run Python API for cloudcv"
     ]
    },
    {
     "cell_type": "code",
     "collapsed": false,
     "input": [
      "from pcloudcv import PCloudCV\n",
      "import utility.job as uj\n",
      "from IPython.display import display\n",
      "from IPython.display import display_pretty, display_html, display_jpeg, display_png, display_json, display_latex, display_svg\n",
      "from IPython.display import Image\n",
      "from IPython.display import HTML\n",
      "import json\n",
      "import os"
     ],
     "language": "python",
     "metadata": {},
     "outputs": []
    },
    {
     "cell_type": "heading",
     "level": 2,
     "metadata": {},
     "source": [
      "Load the configuration file and mention the function you wish to run"
     ]
    },
    {
     "cell_type": "code",
     "collapsed": false,
     "input": [
      "config_path = os.path.join(os.getcwd(), 'config.json') #full path of the config.json file\n",
      "dict = {'exec': 'classify'}"
     ],
     "language": "python",
     "metadata": {},
     "outputs": []
    },
    {
     "cell_type": "heading",
     "level": 2,
     "metadata": {},
     "source": [
      "Start CloudCV Thread"
     ]
    },
    {
     "cell_type": "markdown",
     "metadata": {},
     "source": [
      "Starting the CloudCV is as easy initializing the class with the config file path, dictionary containing parameters and a flag specifying whether to login through google or not.\n"
     ]
    },
    {
     "cell_type": "code",
     "collapsed": false,
     "input": [
      "p = PCloudCV(config_path, dict, True)\n",
      "p.start()"
     ],
     "language": "python",
     "metadata": {},
     "outputs": []
    }
   ],
   "metadata": {}
  }
 ]
}