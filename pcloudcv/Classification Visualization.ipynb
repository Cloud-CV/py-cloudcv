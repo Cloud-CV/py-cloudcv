{
 "metadata": {
  "name": "",
  "signature": "sha256:40f5dfb787b267774839b5fc017bd83df7a0fcedc8b07ccd0e4004972631c4d0"
 },
 "nbformat": 3,
 "nbformat_minor": 0,
 "worksheets": [
  {
   "cells": [
    {
     "cell_type": "markdown",
     "metadata": {},
     "source": [
      "Start by importing PCloudCV module to run Python API for cloudcv"
     ]
    },
    {
     "cell_type": "code",
     "collapsed": false,
     "input": [
      "from pcloudcv import PCloudCV\n",
      "import utility.job as uj"
     ],
     "language": "python",
     "metadata": {},
     "outputs": [
      {
       "output_type": "stream",
       "stream": "stdout",
       "text": [
        "Added Path: /home/dexter/workspace/pcloudcv/pcloudcv\n"
       ]
      }
     ],
     "prompt_number": 1
    },
    {
     "cell_type": "code",
     "collapsed": false,
     "input": [
      "import os\n",
      "config_path = os.path.join(os.getcwd(), 'config.json') #full path of the config.json file\n",
      "dict = {'exec': 'classify'}"
     ],
     "language": "python",
     "metadata": {},
     "outputs": [],
     "prompt_number": 2
    },
    {
     "cell_type": "markdown",
     "metadata": {},
     "source": [
      "Starting the CloudCV is as easy initializing the class with the config file path, dictionary containing parameters and a flag specifying whether to login through google or not.\n"
     ]
    },
    {
     "cell_type": "code",
     "collapsed": false,
     "input": [
      "p = PCloudCV(config_path, dict, True)\n",
      "p.start()"
     ],
     "language": "python",
     "metadata": {},
     "outputs": [
      {
       "output_type": "stream",
       "stream": "stderr",
       "text": [
        "INFO:cherrypy.error:[11/Aug/2014:06:19:15] ENGINE Bus STARTING\n",
        "CherryPy Checker:\n",
        "The Application mounted at '' has an empty config.\n",
        "\n",
        "INFO:cherrypy.error:[11/Aug/2014:06:19:15] ENGINE Started monitor thread 'Autoreloader'.\n",
        "INFO:cherrypy.error:[11/Aug/2014:06:19:15] ENGINE Started monitor thread '_TimeoutMonitor'.\n"
       ]
      },
      {
       "output_type": "stream",
       "stream": "stderr",
       "text": [
        "INFO:cherrypy.error:[11/Aug/2014:06:19:15] ENGINE Serving on 127.0.0.1:8000\n",
        "INFO:cherrypy.error:[11/Aug/2014:06:19:15] ENGINE Bus STARTED\n"
       ]
      },
      {
       "output_type": "stream",
       "stream": "stderr",
       "text": [
        "INFO:cherrypy.access.29319888:127.0.0.1 - - [11/Aug/2014:06:19:25] \"GET /callback/google?state=f24cfc86-2140-11e4-bdce-c0cb384b70e4&code=4/PYBCuqb1pYSgotgzCIMRFNDNhPJ1.4pziOZ608JUa3oEBd8DOtNCTdCyJjwI HTTP/1.1\" 200 64 \"\" \"Mozilla/5.0 (X11; Linux x86_64) AppleWebKit/537.36 (KHTML, like Gecko) Chrome/32.0.1700.77 Safari/537.36\"\n"
       ]
      },
      {
       "output_type": "stream",
       "stream": "stdout",
       "text": [
        "{\"folder\": \"/var/www/html/cloudcv/fileupload/media/pictures/67d4ce7c-7c44-11e3-bedb-00259059abc7\", \"gaccount_table_message\": \"Already existing user entry, updated the entries\\n\", \"id\": \"67d4ce7c-7c44-11e3-bedb-00259059abc7\", \"user_table_message\": \"Email ID already existing in the database, returning corresponding userid\\n\", \"email\": \"h.agrawal092@gmail.com\"}\n",
        "\u001b[35mStarting Listening to Redis Channel for HTTP Post Requests"
       ]
      },
      {
       "output_type": "stream",
       "stream": "stdout",
       "text": [
        "\n",
        "\u001b[39m\n",
        "\u001b[35mListening to Redis Channel\n",
        "\u001b[39m\n",
        "\u001b[35mStarting Socket Connection Thread\n",
        "\u001b[39m\n",
        "Connected using websockets\n"
       ]
      },
      {
       "output_type": "stream",
       "stream": "stderr",
       "text": [
        "INFO:cherrypy.access.29319888:127.0.0.1 - - [11/Aug/2014:06:19:26] \"GET /favicon.ico HTTP/1.1\" 200 1406 \"\" \"Mozilla/5.0 (X11; Linux x86_64) AppleWebKit/537.36 (KHTML, like Gecko) Chrome/32.0.1700.77 Safari/537.36\"\n"
       ]
      },
      {
       "output_type": "stream",
       "stream": "stdout",
       "text": [
        "SocketID:  sfXUuOJP1uGwDlXOW-Lk\n",
        "\u001b[35mStarting Post Request\n",
        "\u001b[39m\n"
       ]
      },
      {
       "output_type": "stream",
       "stream": "stdout",
       "text": [
        "Resized image already present in the directory\n",
        "Resized image already present in the directory\n",
        "No of files to be uploaded:  2\n",
        "\u001b[36mSource Path: local: /home/dexter/Pictures/test_download/3\n",
        "\u001b[39m\n",
        "\u001b[36mExecutable: classify\n",
        "\u001b[39m\n",
        "\u001b[36mExecutable Params: {}\n",
        "\u001b[39m\n",
        "SocketID:  sfXUuOJP1uGwDlXOW-Lk\n",
        "\u001b[36mStarting The POST request\n",
        "\u001b[39m\n",
        "Processing Files\n"
       ]
      },
      {
       "output_type": "stream",
       "stream": "stdout",
       "text": [
        "Sending for execution\n",
        "Files Stored. Waiting for one of the worker nodes to handle this request\n",
        "{u'count': 2, u'result_path': u'/var/www/html/cloudcv/fileupload/media/pictures/67d4ce7c-7c44-11e3-bedb-00259059abc7/NBkqBKxzWZZAkafPaCmx4f', u'image_path': u'/var/www/html/cloudcv/fileupload/media/pictures/67d4ce7c-7c44-11e3-bedb-00259059abc7/NBkqBKxzWZZAkafPaCmx4f', u'exec': u'classify', u'url': u'http://godel.ece.vt.edu/cloudcv/fileupload/media/pictures/67d4ce7c-7c44-11e3-bedb-00259059abc7/NBkqBKxzWZZAkafPaCmx4f', u'socketid': u'sfXUuOJP1uGwDlXOW-Lk', u'dropbox_token': None, u'userid': u'67d4ce7c-7c44-11e3-bedb-00259059abc7', u'jobid': u'NBkqBKxzWZZAkafPaCmx4f', u'source_type': u'local', u'token': u'a621612d5c84f8afe93e5ee686953f6e', u'params': u'{}', u'dir': u'/var/www/html/cloudcv/fileupload/media/pictures/67d4ce7c-7c44-11e3-bedb-00259059abc7/NBkqBKxzWZZAkafPaCmx4f'}\n",
        "\u001b[36mResponse:   {'count': 2, 'image_path': '/var/www/html/cloudcv/fileupload/media/pictures/67d4ce7c-7c44-11e3-bedb-00259059abc7/NBkqBKxzWZZAkafPaCmx4f', 'exec': 'classify', 'userid': '67d4ce7c-7c44-11e3-bedb-00259059abc7', 'source_type': 'local', 'result_path': '/var/www/html/cloudcv/fileupload/media/pictures/67d4ce7c-7c44-11e3-bedb-00259059abc7/NBkqBKxzWZZAkafPaCmx4f', 'url': 'http://godel.ece.vt.edu/cloudcv/fileupload/media/pictures/67d4ce7c-7c44-11e3-bedb-00259059abc7/NBkqBKxzWZZAkafPaCmx4f', 'dropbox_token': None, 'socketid': 'sfXUuOJP1uGwDlXOW-Lk', 'jobid': 'NBkqBKxzWZZAkafPaCmx4f', 'token': 'a621612d5c84f8afe93e5ee686953f6e', 'params': '{}', 'dir': '/var/www/html/cloudcv/fileupload/media/pictures/67d4ce7c-7c44-11e3-bedb-00259059abc7/NBkqBKxzWZZAkafPaCmx4f'}\n",
        "\u001b[39m\n",
        "\u001b[36mInfo:   Please wait while CloudCV runs your job request\n",
        "\u001b[39m\n",
        "\u001b[35mExiting From the Post Request Thread\n",
        "\u001b[39m\n",
        "Received JobID: NBkqBKxzWZZAkafPaCmx4f\n"
       ]
      },
      {
       "output_type": "stream",
       "stream": "stdout",
       "text": [
        "\u001b[34mClassification Complete\n",
        "\u001b[39m\n"
       ]
      },
      {
       "output_type": "stream",
       "stream": "stdout",
       "text": [
        "\u001b[34m{\"000061.jpg\": {\"pay-phone, pay-station\": \"0.130069\", \"guillotine\": \"0.0518147\", \"pole\": \"0.0597673\", \"cash machine, cash dispenser, automated teller machine, automatic teller machine, automated teller, automatic teller, ATM\": \"0.131264\", \"sliding door\": \"0.0974096\"}, \"000034.jpg\": {\"trolleybus, trolley coach, trackless trolley\": \"0.786464\", \"minibus\": \"0.015551\", \"trailer truck, tractor trailer, trucking rig, rig, articulated lorry, semi\": \"0.00876569\", \"passenger car, coach, carriage\": \"0.0151417\", \"streetcar, tram, tramcar, trolley, trolley car\": \"0.128744\"}}\n",
        "\u001b[39m\n",
        "\u001b[35mExiting Redis Thread for HTTP Post requests\n",
        "\u001b[39m\n",
        "Lost connection (Connection closed)\n",
        "\u001b[35mEnding Listing to Redis Channel\n",
        "\u001b[39m\n",
        "\u001b[35mExiting Socket Connection Thread\n",
        "\u001b[39m\n",
        "Exit Program by pressing Control + C\n"
       ]
      }
     ],
     "prompt_number": 3
    },
    {
     "cell_type": "code",
     "collapsed": false,
     "input": [
      "uj.job.outputToFile()"
     ],
     "language": "python",
     "metadata": {},
     "outputs": [
      {
       "output_type": "stream",
       "stream": "stdout",
       "text": [
        "Output Written to File: /home/dexter/Pictures/test_download/NBkqBKxzWZZAkafPaCmx4f/output.txt\n"
       ]
      }
     ],
     "prompt_number": 4
    },
    {
     "cell_type": "code",
     "collapsed": false,
     "input": [],
     "language": "python",
     "metadata": {},
     "outputs": []
    },
    {
     "cell_type": "code",
     "collapsed": false,
     "input": [
      "\n",
      "import demo.demo_visualize as dv\n",
      "dv.visualize_classification(uj.job.output)\n"
     ],
     "language": "python",
     "metadata": {},
     "outputs": []
    },
    {
     "cell_type": "code",
     "collapsed": false,
     "input": [
      "exit"
     ],
     "language": "python",
     "metadata": {},
     "outputs": []
    }
   ],
   "metadata": {}
  }
 ]
}