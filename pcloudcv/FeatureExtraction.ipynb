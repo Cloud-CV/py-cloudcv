{
 "metadata": {
  "name": "",
  "signature": "sha256:4ee58034dab27cfdbbcf6354a4e1461187bfadc2df43db2ce64eacdde0d0a15b"
 },
 "nbformat": 3,
 "nbformat_minor": 0,
 "worksheets": [
  {
   "cells": [
    {
     "cell_type": "heading",
     "level": 2,
     "metadata": {},
     "source": [
      "Start by importing PCloudCV module to run Python API for cloudcv"
     ]
    },
    {
     "cell_type": "code",
     "collapsed": false,
     "input": [
      "from pcloudcv import PCloudCV\n",
      "import os, signal"
     ],
     "language": "python",
     "metadata": {},
     "outputs": []
    },
    {
     "cell_type": "heading",
     "level": 2,
     "metadata": {},
     "source": [
      "Load the configuration file and mention the function you wish to run"
     ]
    },
    {
     "cell_type": "code",
     "collapsed": false,
     "input": [
      "config_path = os.path.join(os.getcwd(), 'config.json') #full path of the file config.json file\n",
      "dict = {'exec': 'features'} #executable name"
     ],
     "language": "python",
     "metadata": {},
     "outputs": []
    },
    {
     "cell_type": "heading",
     "level": 2,
     "metadata": {},
     "source": [
      "Start CloudCV Thread"
     ]
    },
    {
     "cell_type": "markdown",
     "metadata": {},
     "source": [
      "Starting the CloudCV is as easy as initializing the class with the config file path, dictionary containing parameters and a flag specifying whether to login through google or not.\n"
     ]
    },
    {
     "cell_type": "code",
     "collapsed": false,
     "input": [
      "p = PCloudCV(config_path, dict, True)\n",
      "signal.signal(signal.SIGINT, p.signal_handler)\n",
      "p.start()\n",
      "signal.pause()"
     ],
     "language": "python",
     "metadata": {},
     "outputs": []
    }
   ],
   "metadata": {}
  }
 ]
}