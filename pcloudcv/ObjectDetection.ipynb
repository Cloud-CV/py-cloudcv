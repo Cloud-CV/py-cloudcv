{
 "metadata": {
  "name": "",
  "signature": "sha256:47d0425ddc489bce32c6e79a71ce76292f64859441936fd60642efdec1de9656"
 },
 "nbformat": 3,
 "nbformat_minor": 0,
 "worksheets": [
  {
   "cells": [
    {
     "cell_type": "markdown",
     "metadata": {},
     "source": [
      "Start by importing PCloudCV module to run Python API for cloudcv"
     ]
    },
    {
     "cell_type": "code",
     "collapsed": false,
     "input": [
      "from pcloudcv import PCloudCV\n"
     ],
     "language": "python",
     "metadata": {},
     "outputs": []
    },
    {
     "cell_type": "code",
     "collapsed": false,
     "input": [
      "import os\n",
      "config_path = os.path.join(os.getcwd(), 'config.json') #full path of the config.json file\n",
      "dict = {'exec': 'VOCRelease5'}"
     ],
     "language": "python",
     "metadata": {},
     "outputs": []
    },
    {
     "cell_type": "markdown",
     "metadata": {},
     "source": [
      "Starting the CloudCV is as easy initializing the class with the config file path, dictionary containing parameters and a flag specifying whether to login through google or not.\n"
     ]
    },
    {
     "cell_type": "code",
     "collapsed": false,
     "input": [
      "p = PCloudCV(config_path, dict, True)\n",
      "p.start()"
     ],
     "language": "python",
     "metadata": {},
     "outputs": []
    },
    {
     "cell_type": "code",
     "collapsed": false,
     "input": [
      "exit"
     ],
     "language": "python",
     "metadata": {},
     "outputs": []
    }
   ],
   "metadata": {}
  }
 ]
}