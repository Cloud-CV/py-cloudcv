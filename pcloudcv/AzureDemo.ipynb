{
 "metadata": {
  "name": "",
  "signature": "sha256:c25a6e04100d00ec4350c3fd251fd77f7261094d46cf36f8afcf69f4eae66942"
 },
 "nbformat": 3,
 "nbformat_minor": 0,
 "worksheets": [
  {
   "cells": [
    {
     "cell_type": "code",
     "collapsed": false,
     "input": [
      "__author__ = 'dexter'\n",
      "\n",
      "from pcloudcv import PCloudCV\n",
      "import signal\n",
      "import argparse\n",
      "import os\n",
      "\n",
      "if __name__ == \"__main__\":\n",
      "    config_file = 'config.json'\n",
      "    p = PCloudCV(os.getcwd() + '/' + str(config_file), {}, 'True')\n",
      "    p.dropbox_authenticate()\n",
      "    p.azure_demo('batra.mlp.lab@gmail.com', '/classify_azure/')"
     ],
     "language": "python",
     "metadata": {},
     "outputs": []
    },
    {
     "cell_type": "code",
     "collapsed": false,
     "input": [
      "exit"
     ],
     "language": "python",
     "metadata": {},
     "outputs": []
    },
    {
     "cell_type": "code",
     "collapsed": false,
     "input": [],
     "language": "python",
     "metadata": {},
     "outputs": []
    }
   ],
   "metadata": {}
  }
 ]
}