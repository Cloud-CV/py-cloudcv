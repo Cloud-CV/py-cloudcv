{
 "metadata": {
  "name": "",
  "signature": "sha256:fb9f603e29db7fc08c44ea9d29aa75fdcb950f1e9daf79b8c9da2567d76b29de"
 },
 "nbformat": 3,
 "nbformat_minor": 0,
 "worksheets": [
  {
   "cells": [
    {
     "cell_type": "code",
     "collapsed": false,
     "input": [
      "__author__ = 'dexter'\n",
      "\n",
      "from pcloudcv import PCloudCV\n",
      "import signal\n",
      "import argparse\n",
      "import os\n",
      "\n",
      "if __name__ == \"__main__\":\n",
      "    config_file = 'config.json'\n",
      "    p = PCloudCV(os.getcwd() + '/' + str(config_file), {}, 'True')\n",
      "    p.dropbox_authenticate()\n",
      "    p.azure_demo('batra.mlp.lab@gmail.com', '/classify_azure')"
     ],
     "language": "python",
     "metadata": {},
     "outputs": [
      {
       "output_type": "stream",
       "stream": "stdout",
       "text": [
        "Added Path: /home/dexter/workspace/pcloudcv/pcloudcv\n",
        "/home/dexter/workspace/pcloudcv/pcloudcv/config.cfg\n",
        "67d4ce7c-7c44-11e3-bedb-00259059abc7\n",
        "User Authenticated"
       ]
      },
      {
       "output_type": "stream",
       "stream": "stdout",
       "text": [
        "\n",
        "Welcome harsh\n",
        "DropBox Authentication Successful"
       ]
      },
      {
       "output_type": "stream",
       "stream": "stdout",
       "text": [
        "\n",
        "Request Received by Azures. JobID is: oAQC2bYCbR57EppNc5r4ne"
       ]
      },
      {
       "output_type": "stream",
       "stream": "stdout",
       "text": [
        "\n"
       ]
      },
      {
       "output_type": "stream",
       "stream": "stderr",
       "text": [
        "INFO:cherrypy.error:[11/Aug/2014:19:21:34] ENGINE Bus STARTING\n",
        "CherryPy Checker:\n",
        "The Application mounted at '' has an empty config.\n",
        "\n",
        "INFO:cherrypy.error:[11/Aug/2014:19:21:34] ENGINE Started monitor thread 'Autoreloader'.\n",
        "INFO:cherrypy.error:[11/Aug/2014:19:21:34] ENGINE Started monitor thread '_TimeoutMonitor'.\n",
        "INFO:cherrypy.error:[11/Aug/2014:19:21:34] ENGINE Serving on 127.0.0.1:8000\n",
        "INFO:cherrypy.error:[11/Aug/2014:19:21:34] ENGINE Bus STARTED\n"
       ]
      },
      {
       "ename": "SystemExit",
       "evalue": "0",
       "output_type": "pyerr",
       "traceback": [
        "An exception has occurred, use %tb to see the full traceback.\n",
        "\u001b[1;31mSystemExit\u001b[0m\u001b[1;31m:\u001b[0m 0\n"
       ]
      },
      {
       "output_type": "stream",
       "stream": "stderr",
       "text": [
        "To exit: use 'exit', 'quit', or Ctrl-D.\n"
       ]
      }
     ],
     "prompt_number": 1
    },
    {
     "cell_type": "code",
     "collapsed": false,
     "input": [
      "exit"
     ],
     "language": "python",
     "metadata": {},
     "outputs": []
    },
    {
     "cell_type": "code",
     "collapsed": false,
     "input": [],
     "language": "python",
     "metadata": {},
     "outputs": []
    }
   ],
   "metadata": {}
  }
 ]
}