{
 "metadata": {
  "name": "",
  "signature": "sha256:8bf5b0cac2ff11750cec8b237a8963216dd82376a98d03a5bf21b6e3b16e64b2"
 },
 "nbformat": 3,
 "nbformat_minor": 0,
 "worksheets": [
  {
   "cells": [
    {
     "cell_type": "code",
     "collapsed": false,
     "input": [
      "from pcloudcv import PCloudCV\n",
      "import signal\n",
      "import argparse\n",
      "import os\n"
     ],
     "language": "python",
     "metadata": {},
     "outputs": [
      {
       "output_type": "stream",
       "stream": "stdout",
       "text": [
        "Added Path: /home/dexter/workspace/pcloudcv/pcloudcv\n"
       ]
      }
     ],
     "prompt_number": 1
    },
    {
     "cell_type": "code",
     "collapsed": false,
     "input": [
      "\n",
      "#------------------------------Initial Setup :- Argument Parser--------------------------\n",
      "parser = argparse.ArgumentParser()\n",
      "parser.add_argument(\"config\", type=str, help=\"Full Path to config file\")\n",
      "parser.add_argument(\"-I\", \"--input\", type=str, help=\"Full Path to the Input Folder\")\n",
      "parser.add_argument(\"-O\", \"--output\", type=str, help=\"Full Path to the Output Folder\")\n",
      "parser.add_argument(\"-E\", \"--executable\", type=str, help=\"Executable Name: \\n1.) ImageStitch or \\n 2.)VOCRelease5\")\n",
      "parser.add_argument(\"--nologin\", help=\"Specify this argument to ignore logging in. However some features can be used only when logged in.\",\n",
      "                    action=\"store_true\")\n",
      "args = parser.parse_args()\n",
      "#----------------xxx-------------Argument Parser Code Ends---------------------xxx----------------------\n",
      "\n",
      "'''\n",
      "Function to parse command line arguments.\n",
      "'''\n",
      "def parseCommandLineArgs():\n",
      "    i = 0\n",
      "    parsedList = {}\n",
      "    if args.input:\n",
      "        parsedList['input'] = args.input\n",
      "    if args.output:\n",
      "        parsedList['output'] = args.output\n",
      "    if args.executable:\n",
      "        parsedList['exec'] = args.executable\n",
      "    return parsedList, args.config, not args.nologin\n",
      "\n",
      "if __name__ == \"__main__\":\n",
      "    parsedList, config_file, login_required = parseCommandLineArgs()\n",
      "    print parsedList\n",
      "    p = PCloudCV(os.getcwd() + '/' + str(config_file), parsedList, login_required)\n",
      "    signal.signal(signal.SIGINT, p.signal_handler)\n",
      "\n",
      "    if login_required:\n",
      "        p.dropbox_authenticate()\n",
      "\n",
      "    raw_input()\n",
      "\n",
      "    p.start()\n",
      "    p.join()\n",
      "\n",
      "    signal.pause()\n",
      "    \n",
      "    import utility.job as uj\n",
      "    import demo.demo_visualize as dv\n",
      "    dv.visualize_classification(uj.job.output)\n",
      "    "
     ],
     "language": "python",
     "metadata": {},
     "outputs": [
      {
       "output_type": "stream",
       "stream": "stderr",
       "text": [
        "usage: -c [-h] [-I INPUT] [-O OUTPUT] [-E EXECUTABLE] [--nologin] config\n",
        "-c: error: unrecognized arguments: -f --IPKernelApp.parent_appname='ipython-notebook' --profile-dir /home/dexter/.ipython/profile_default --parent=1\n"
       ]
      },
      {
       "ename": "SystemExit",
       "evalue": "2",
       "output_type": "pyerr",
       "traceback": [
        "An exception has occurred, use %tb to see the full traceback.\n",
        "\u001b[1;31mSystemExit\u001b[0m\u001b[1;31m:\u001b[0m 2\n"
       ]
      },
      {
       "output_type": "stream",
       "stream": "stderr",
       "text": [
        "To exit: use 'exit', 'quit', or Ctrl-D.\n"
       ]
      }
     ],
     "prompt_number": 4
    },
    {
     "cell_type": "code",
     "collapsed": false,
     "input": [],
     "language": "python",
     "metadata": {},
     "outputs": [
      {
       "ename": "NameError",
       "evalue": "name 'parseCommandLineArgs' is not defined",
       "output_type": "pyerr",
       "traceback": [
        "\u001b[1;31m---------------------------------------------------------------------------\u001b[0m\n\u001b[1;31mNameError\u001b[0m                                 Traceback (most recent call last)",
        "\u001b[1;32m<ipython-input-3-04ede8a0dc45>\u001b[0m in \u001b[0;36m<module>\u001b[1;34m()\u001b[0m\n\u001b[0;32m      1\u001b[0m \u001b[1;32mif\u001b[0m \u001b[0m__name__\u001b[0m \u001b[1;33m==\u001b[0m \u001b[1;34m\"__main__\"\u001b[0m\u001b[1;33m:\u001b[0m\u001b[1;33m\u001b[0m\u001b[0m\n\u001b[1;32m----> 2\u001b[1;33m     \u001b[0mparsedList\u001b[0m\u001b[1;33m,\u001b[0m \u001b[0mconfig_file\u001b[0m\u001b[1;33m,\u001b[0m \u001b[0mlogin_required\u001b[0m \u001b[1;33m=\u001b[0m \u001b[0mparseCommandLineArgs\u001b[0m\u001b[1;33m(\u001b[0m\u001b[1;33m)\u001b[0m\u001b[1;33m\u001b[0m\u001b[0m\n\u001b[0m\u001b[0;32m      3\u001b[0m     \u001b[1;32mprint\u001b[0m \u001b[0mparsedList\u001b[0m\u001b[1;33m\u001b[0m\u001b[0m\n\u001b[0;32m      4\u001b[0m     \u001b[0mp\u001b[0m \u001b[1;33m=\u001b[0m \u001b[0mPCloudCV\u001b[0m\u001b[1;33m(\u001b[0m\u001b[0mos\u001b[0m\u001b[1;33m.\u001b[0m\u001b[0mgetcwd\u001b[0m\u001b[1;33m(\u001b[0m\u001b[1;33m)\u001b[0m \u001b[1;33m+\u001b[0m \u001b[1;34m'/'\u001b[0m \u001b[1;33m+\u001b[0m \u001b[0mstr\u001b[0m\u001b[1;33m(\u001b[0m\u001b[0mconfig_file\u001b[0m\u001b[1;33m)\u001b[0m\u001b[1;33m,\u001b[0m \u001b[0mparsedList\u001b[0m\u001b[1;33m,\u001b[0m \u001b[0mlogin_required\u001b[0m\u001b[1;33m)\u001b[0m\u001b[1;33m\u001b[0m\u001b[0m\n\u001b[0;32m      5\u001b[0m     \u001b[0msignal\u001b[0m\u001b[1;33m.\u001b[0m\u001b[0msignal\u001b[0m\u001b[1;33m(\u001b[0m\u001b[0msignal\u001b[0m\u001b[1;33m.\u001b[0m\u001b[0mSIGINT\u001b[0m\u001b[1;33m,\u001b[0m \u001b[0mp\u001b[0m\u001b[1;33m.\u001b[0m\u001b[0msignal_handler\u001b[0m\u001b[1;33m)\u001b[0m\u001b[1;33m\u001b[0m\u001b[0m\n",
        "\u001b[1;31mNameError\u001b[0m: name 'parseCommandLineArgs' is not defined"
       ]
      }
     ],
     "prompt_number": 3
    }
   ],
   "metadata": {}
  }
 ]
}