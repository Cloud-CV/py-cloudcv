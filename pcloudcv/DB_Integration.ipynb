{
 "metadata": {
  "name": "",
  "signature": "sha256:520ef4e85e57021a70c60ce76f3f71c27cb7e9ffe0188c1cd49b6e5e6a364b7a"
 },
 "nbformat": 3,
 "nbformat_minor": 0,
 "worksheets": [
  {
   "cells": [
    {
     "cell_type": "markdown",
     "metadata": {},
     "source": [
      "Start by importing PCloudCV module to run Python API for cloudcv"
     ]
    },
    {
     "cell_type": "code",
     "collapsed": false,
     "input": [
      "from pcloudcv import PCloudCV"
     ],
     "language": "python",
     "metadata": {},
     "outputs": [
      {
       "output_type": "stream",
       "stream": "stdout",
       "text": [
        "Added Path: /home/dexter/workspace/pcloudcv/pcloudcv\n"
       ]
      }
     ],
     "prompt_number": 1
    },
    {
     "cell_type": "markdown",
     "metadata": {},
     "source": [
      "config.json contains the important configuration settings that define the following:\n",
      "1.) Which Executable to run\n",
      "2.) The source folder to the input images.\n",
      "3.) Folder where output needs to be stored. \n",
      "4.) Additional Parameters\n",
      "\n",
      "We need to send the full path of config file ( config.json) to the PCloudCV constructor"
     ]
    },
    {
     "cell_type": "code",
     "collapsed": false,
     "input": [
      "import os\n",
      "config_path = os.path.join(os.getcwd(), 'config.json') #full path of the config.json file"
     ],
     "language": "python",
     "metadata": {},
     "outputs": [],
     "prompt_number": 2
    },
    {
     "cell_type": "markdown",
     "metadata": {},
     "source": [
      "Dictionary is used for dynamically mention configuration settings. You can mention input path, output path, and the executable."
     ]
    },
    {
     "cell_type": "code",
     "collapsed": false,
     "input": [
      "dict = {'input': 'dropbox:/1/', 'exec': 'ImageStitch'}"
     ],
     "language": "python",
     "metadata": {},
     "outputs": [],
     "prompt_number": 3
    },
    {
     "cell_type": "markdown",
     "metadata": {},
     "source": [
      "Starting the CloudCV is as easy initializing the class with the config file path, dictionary containing parameters and a flag specifying whether to login through google or not.\n"
     ]
    },
    {
     "cell_type": "code",
     "collapsed": false,
     "input": [
      "p1 = PCloudCV(config_path, dict, True)"
     ],
     "language": "python",
     "metadata": {},
     "outputs": [
      {
       "output_type": "stream",
       "stream": "stderr",
       "text": [
        "INFO:cherrypy.error:[09/Aug/2014:03:26:10] ENGINE Bus STARTING\n",
        "CherryPy Checker:\n",
        "The Application mounted at '' has an empty config.\n",
        "\n"
       ]
      },
      {
       "output_type": "stream",
       "stream": "stderr",
       "text": [
        "INFO:cherrypy.error:[09/Aug/2014:03:26:10] ENGINE Started monitor thread 'Autoreloader'.\n"
       ]
      },
      {
       "output_type": "stream",
       "stream": "stderr",
       "text": [
        "INFO:cherrypy.error:[09/Aug/2014:03:26:10] ENGINE Started monitor thread '_TimeoutMonitor'.\n"
       ]
      },
      {
       "output_type": "stream",
       "stream": "stderr",
       "text": [
        "INFO:cherrypy.error:[09/Aug/2014:03:26:10] ENGINE Serving on 127.0.0.1:8000\n",
        "INFO:cherrypy.error:[09/Aug/2014:03:26:10] ENGINE Bus STARTED\n"
       ]
      }
     ],
     "prompt_number": 4
    },
    {
     "cell_type": "code",
     "collapsed": false,
     "input": [
      "p1.start()"
     ],
     "language": "python",
     "metadata": {},
     "outputs": [
      {
       "output_type": "stream",
       "stream": "stdout",
       "text": [
        "/home/dexter/workspace/pcloudcv/pcloudcv/config.cfg\n"
       ]
      },
      {
       "output_type": "stream",
       "stream": "stdout",
       "text": [
        "67d4ce7c-7c44-11e3-bedb-00259059abc7\n",
        "User Authenticated\n",
        "Welcome harsh\n"
       ]
      },
      {
       "output_type": "stream",
       "stream": "stdout",
       "text": [
        "\u001b[35mStarting Listening to Redis Channel for HTTP Post Requests\n",
        "\u001b[39m\n"
       ]
      },
      {
       "output_type": "stream",
       "stream": "stdout",
       "text": [
        "\u001b[35mListening to Redis Channel\n",
        "\u001b[39m\n",
        "\u001b[35mStarting Socket Connection Thread\n",
        "\u001b[39m\n",
        "Connected using websockets\n"
       ]
      },
      {
       "output_type": "stream",
       "stream": "stdout",
       "text": [
        "SocketID:  VgZDah6bbQ2am1uKmZK6\n",
        "\u001b[35mStarting Post Request\n",
        "\u001b[39m\n"
       ]
      },
      {
       "output_type": "stream",
       "stream": "stdout",
       "text": [
        "DropBox Authentication Successful\n",
        "Dropbox Token:  D2GF8Qi3hdMAAAAAAAAAAc0m3LaKGha6TZUSxbKB4DKO96k9DE6uWMSPjuFKIydk\n",
        "\u001b[36mSource Path: dropbox:/1/\n",
        "\u001b[39m\n",
        "\u001b[36mExecutable: ImageStitch\n",
        "\u001b[39m\n",
        "\u001b[36mExecutable Params: {u'warp': u'plane'}\n",
        "\u001b[39m\n",
        "SocketID:  VgZDah6bbQ2am1uKmZK6\n",
        "\u001b[36mStarting The POST request\n",
        "\u001b[39m\n",
        "\u001b[36mResponse:   Downloading content from dropbox. Execution will begin after downloading finishes\n",
        "\u001b[39m\n",
        "\u001b[36mInfo:   Please wait while CloudCV runs your job request\n",
        "\u001b[39m\n",
        "\u001b[35mExiting From the Post Request Thread\n",
        "\u001b[39m\n"
       ]
      },
      {
       "output_type": "stream",
       "stream": "stdout",
       "text": [
        "Files Stored. Waiting for one of the worker nodes to handle this request\n",
        "{u'count': 3, u'result_path': u'/var/www/html/cloudcv/fileupload/media/pictures/67d4ce7c-7c44-11e3-bedb-00259059abc7/S9FoYN5FU2mt8JM6EQ7Xe', u'image_path': u'/var/www/html/cloudcv/fileupload/media/pictures/67d4ce7c-7c44-11e3-bedb-00259059abc7/1', u'exec': u'ImageStitch', u'url': u'http://godel.ece.vt.edu/cloudcv/fileupload/media/pictures/67d4ce7c-7c44-11e3-bedb-00259059abc7/S9FoYN5FU2mt8JM6EQ7Xe', u'socketid': u'VgZDah6bbQ2am1uKmZK6', u'dropbox_token': u'D2GF8Qi3hdMAAAAAAAAAAc0m3LaKGha6TZUSxbKB4DKO96k9DE6uWMSPjuFKIydk', u'userid': u'67d4ce7c-7c44-11e3-bedb-00259059abc7', u'jobid': u'S9FoYN5FU2mt8JM6EQ7Xe', u'source_type': u'dropbox', u'token': u'6c95fc12c01e347785819cd28f9ba0b8', u'params': u\"{u'warp': u'plane'}\", u'dir': u'/var/www/html/cloudcv/fileupload/media/pictures/67d4ce7c-7c44-11e3-bedb-00259059abc7/S9FoYN5FU2mt8JM6EQ7Xe'}\n",
        "\u001b[34mImage Stitching done\n",
        "\u001b[39m\n"
       ]
      },
      {
       "output_type": "stream",
       "stream": "stdout",
       "text": [
        "\u001b[34m/var/www/html/cloudcv/fileupload/media/pictures/67d4ce7c-7c44-11e3-bedb-00259059abc7/S9FoYN5FU2mt8JM6EQ7Xe/results/result_stitch.jpg\n",
        "/var/www/html/cloudcv/fileupload/media/pictures/67d4ce7c-7c44-11e3-bedb-00259059abc7/S9FoYN5FU2mt8JM6EQ7Xe/results/output.txt\n",
        "Output have been stored in your dropbox folder.\n",
        "http://www.dropbox.com/home/Apps/CloudCV/jobs/S9FoYN5FU2mt8JM6EQ7Xe\n",
        "\u001b[39m\n",
        "\u001b[35mExiting Redis Thread for HTTP Post requests\n",
        "\u001b[39m\n",
        "Lost connection (Connection closed)\n",
        "\u001b[35mEnding Listing to Redis Channel\n",
        "\u001b[39m\n",
        "\u001b[35mExiting Socket Connection Thread\n",
        "\u001b[39m\n"
       ]
      },
      {
       "output_type": "stream",
       "stream": "stderr",
       "text": [
        "INFO:cherrypy.error:[09/Aug/2014:03:26:27] ENGINE Bus STOPPING\n"
       ]
      },
      {
       "output_type": "stream",
       "stream": "stderr",
       "text": [
        "INFO:cherrypy.error:[09/Aug/2014:03:26:27] ENGINE HTTP Server cherrypy._cpwsgi_server.CPWSGIServer(('127.0.0.1', 8000)) shut down\n",
        "INFO:cherrypy.error:[09/Aug/2014:03:26:27] ENGINE Stopped thread 'Autoreloader'.\n",
        "INFO:cherrypy.error:[09/Aug/2014:03:26:27] ENGINE Stopped thread '_TimeoutMonitor'.\n",
        "INFO:cherrypy.error:[09/Aug/2014:03:26:27] ENGINE Bus STOPPED\n",
        "INFO:cherrypy.error:[09/Aug/2014:03:26:27] ENGINE Bus EXITING\n",
        "INFO:cherrypy.error:[09/Aug/2014:03:26:27] ENGINE Bus EXITED\n",
        "INFO:cherrypy.error:[09/Aug/2014:03:26:27] ENGINE HTTP Server cherrypy._cpwsgi_server.CPWSGIServer(('127.0.0.1', 8000)) already shut down\n",
        "INFO:cherrypy.error:[09/Aug/2014:03:26:27] ENGINE Bus STOPPING\n",
        "INFO:cherrypy.error:[09/Aug/2014:03:26:27] ENGINE HTTP Server cherrypy._cpwsgi_server.CPWSGIServer(('127.0.0.1', 8000)) already shut down\n",
        "INFO:cherrypy.error:[09/Aug/2014:03:26:27] ENGINE No thread running for None.\n",
        "INFO:cherrypy.error:[09/Aug/2014:03:26:27] ENGINE No thread running for None.\n",
        "INFO:cherrypy.error:[09/Aug/2014:03:26:27] ENGINE Bus STOPPED\n",
        "INFO:cherrypy.error:[09/Aug/2014:03:26:27] ENGINE Bus EXITING\n",
        "INFO:cherrypy.error:[09/Aug/2014:03:26:27] ENGINE Bus EXITED\n"
       ]
      },
      {
       "output_type": "stream",
       "stream": "stderr",
       "text": [
        "INFO:cherrypy.error:[09/Aug/2014:03:26:27] ENGINE Waiting for child threads to terminate...\n",
        "INFO:cherrypy.error:[09/Aug/2014:03:26:27] ENGINE Waiting for thread MainThread.\n"
       ]
      }
     ],
     "prompt_number": 5
    },
    {
     "cell_type": "code",
     "collapsed": false,
     "input": [],
     "language": "python",
     "metadata": {},
     "outputs": []
    },
    {
     "cell_type": "code",
     "collapsed": false,
     "input": [
      "exit\n"
     ],
     "language": "python",
     "metadata": {},
     "outputs": []
    }
   ],
   "metadata": {}
  }
 ]
}