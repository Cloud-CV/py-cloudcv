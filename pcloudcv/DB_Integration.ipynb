{
 "metadata": {
  "name": "",
  "signature": "sha256:b53f5ac6be7a4713af6dd727fbff070dde568890814d7e2aa29a95b12e260554"
 },
 "nbformat": 3,
 "nbformat_minor": 0,
 "worksheets": [
  {
   "cells": [
    {
     "cell_type": "raw",
     "metadata": {},
     "source": [
      "Start by importing PCloudCV module to run Python API for cloudcv"
     ]
    },
    {
     "cell_type": "code",
     "collapsed": false,
     "input": [
      "from pcloudcv import PCloudCV\n"
     ],
     "language": "python",
     "metadata": {},
     "outputs": [
      {
       "output_type": "stream",
       "stream": "stdout",
       "text": [
        "Added Path: /home/dexter/workspace/pcloudcv/pcloudcv\n"
       ]
      }
     ],
     "prompt_number": 1
    },
    {
     "cell_type": "code",
     "collapsed": false,
     "input": [
      "import os\n",
      "config_path = os.path.join(os.getcwd(), 'config.json') #full path of the config.json file\n",
      "dict = {'input': 'dropbox:/1/', 'exec': 'ImageStitch'}"
     ],
     "language": "python",
     "metadata": {},
     "outputs": [],
     "prompt_number": 2
    },
    {
     "cell_type": "markdown",
     "metadata": {},
     "source": [
      "Starting the CloudCV is as easy initializing the class with the config file path, dictionary containing parameters and a flag specifying whether to login through google or not.\n"
     ]
    },
    {
     "cell_type": "code",
     "collapsed": false,
     "input": [
      "p1 = PCloudCV(config_path, dict, True)"
     ],
     "language": "python",
     "metadata": {},
     "outputs": [
      {
       "output_type": "stream",
       "stream": "stderr",
       "text": [
        "INFO:cherrypy.error:[20/Jun/2014:11:35:22] ENGINE Bus STARTING\n",
        "CherryPy Checker:\n",
        "The Application mounted at '' has an empty config.\n",
        "\n"
       ]
      },
      {
       "output_type": "stream",
       "stream": "stderr",
       "text": [
        "INFO:cherrypy.error:[20/Jun/2014:11:35:22] ENGINE Started monitor thread '_TimeoutMonitor'.\n",
        "INFO:cherrypy.error:[20/Jun/2014:11:35:22] ENGINE Started monitor thread 'Autoreloader'.\n"
       ]
      },
      {
       "output_type": "stream",
       "stream": "stderr",
       "text": [
        "INFO:cherrypy.error:[20/Jun/2014:11:35:22] ENGINE Serving on 127.0.0.1:8000\n",
        "INFO:cherrypy.error:[20/Jun/2014:11:35:22] ENGINE Bus STARTED\n"
       ]
      }
     ],
     "prompt_number": 3
    },
    {
     "cell_type": "code",
     "collapsed": false,
     "input": [
      "p1.start()\n"
     ],
     "language": "python",
     "metadata": {},
     "outputs": [
      {
       "output_type": "stream",
       "stream": "stderr",
       "text": [
        "INFO:cherrypy.access.52486224:127.0.0.1 - - [20/Jun/2014:11:36:51] \"GET /callback/google?state=8dc276b6-f890-11e3-97b5-c0cb384b70e4&code=4/bbFqYFys2VuhaR8GmDxHYEoWhxT9.4lkFsvfauv0faDn_6y0ZQNiYYdtzjQI HTTP/1.1\" 200 64 \"\" \"Mozilla/5.0 (X11; Linux x86_64) AppleWebKit/537.36 (KHTML, like Gecko) Chrome/32.0.1700.77 Safari/537.36\"\n"
       ]
      },
      {
       "output_type": "stream",
       "stream": "stderr",
       "text": [
        "INFO:cherrypy.access.52486224:127.0.0.1 - - [20/Jun/2014:11:36:51] \"GET /favicon.ico HTTP/1.1\" 200 1406 \"\" \"Mozilla/5.0 (X11; Linux x86_64) AppleWebKit/537.36 (KHTML, like Gecko) Chrome/32.0.1700.77 Safari/537.36\"\n"
       ]
      },
      {
       "output_type": "stream",
       "stream": "stdout",
       "text": [
        "{\"folder\": \"/var/www/html/cloudcv/fileupload/media/pictures/67d4ce7c-7c44-11e3-bedb-00259059abc7\", \"gaccount_table_message\": \"Already existing user entry, updated the entries\\n\", \"id\": \"67d4ce7c-7c44-11e3-bedb-00259059abc7\", \"user_table_message\": \"Email ID already existing in the database, returning corresponding userid\\n\", \"email\": \"h.agrawal092@gmail.com\"}\n",
        "\u001b[35mStarting Listening to Redis Channel for HTTP Post Requests\n",
        "\u001b[39m\n"
       ]
      },
      {
       "output_type": "stream",
       "stream": "stdout",
       "text": [
        "\u001b[35mListening to Redis Channel\n",
        "\u001b[39m\n"
       ]
      },
      {
       "output_type": "stream",
       "stream": "stdout",
       "text": [
        "\u001b[35mStarting Socket Connection Thread\n",
        "\u001b[39m\n",
        "\u001b[35mStarting Post Request\n",
        "\u001b[39m\n"
       ]
      },
      {
       "output_type": "stream",
       "stream": "stdout",
       "text": [
        "Connected using websockets\n",
        "SocketID:  2OCMsKYZgWe6a6jEgZR8\n",
        "DropBox Authentication Successful\n",
        "\u001b[36mSource Path: dropbox:/1/\n",
        "\u001b[39m\n",
        "\u001b[36mExecutable: ImageStitch\n",
        "\u001b[39m\n",
        "\u001b[36mExecutable Params: {u'warp': u'plane'}\n",
        "\u001b[39m\n",
        "SocketID:  2OCMsKYZgWe6a6jEgZR8\n",
        "\u001b[36mStarting The POST request\n",
        "\u001b[39m\n"
       ]
      },
      {
       "output_type": "stream",
       "stream": "stdout",
       "text": [
        "\u001b[36mResponse:   Downloading content from dropbox. Execution will begin after downloading finishes\n",
        "\u001b[39m\n",
        "\u001b[36mInfo:   Please wait while CloudCV runs your job request\n",
        "\u001b[39m\n",
        "\u001b[35mExiting From the Post Request Thread\n",
        "\u001b[39m\n",
        "{'result_path': '/var/www/html/cloudcv/fileupload/media/pictures/67d4ce7c-7c44-11e3-bedb-00259059abc7/uk4SMu9mV3CVE8hz5tde6d', 'count': '0', 'image_path': '/var/www/html/cloudcv/fileupload/media/pictures/67d4ce7c-7c44-11e3-bedb-00259059abc7/1', 'exec': 'ImageStitch', 'url': 'http://godel.ece.vt.edu/cloudcv/fileupload/media/pictures/67d4ce7c-7c44-11e3-bedb-00259059abc7/uk4SMu9mV3CVE8hz5tde6d', 'socketid': '2OCMsKYZgWe6a6jEgZR8', 'dropbox_token': 'D2GF8Qi3hdMAAAAAAAAAAc0m3LaKGha6TZUSxbKB4DKO96k9DE6uWMSPjuFKIydk', 'userid': '67d4ce7c-7c44-11e3-bedb-00259059abc7', 'jobid': 'uk4SMu9mV3CVE8hz5tde6d', 'source_type': 'dropbox', 'token': '26d202b70aad36d22b7bce3d0a547b29', 'params': \"{u'warp': u'plane'}\", 'dir': '/var/www/html/cloudcv/fileupload/media/pictures/67d4ce7c-7c44-11e3-bedb-00259059abc7/uk4SMu9mV3CVE8hz5tde6d'}\n"
       ]
      },
      {
       "output_type": "stream",
       "stream": "stderr",
       "text": [
        "INFO:cherrypy.error:[20/Jun/2014:11:38:06] ENGINE Bus STOPPING\n"
       ]
      },
      {
       "output_type": "stream",
       "stream": "stderr",
       "text": [
        "INFO:cherrypy.error:[20/Jun/2014:11:38:06] ENGINE HTTP Server cherrypy._cpwsgi_server.CPWSGIServer(('127.0.0.1', 8000)) shut down\n",
        "INFO:cherrypy.error:[20/Jun/2014:11:38:06] ENGINE Stopped thread '_TimeoutMonitor'.\n",
        "INFO:cherrypy.error:[20/Jun/2014:11:38:06] ENGINE Stopped thread 'Autoreloader'.\n",
        "INFO:cherrypy.error:[20/Jun/2014:11:38:06] ENGINE Bus STOPPED\n",
        "INFO:cherrypy.error:[20/Jun/2014:11:38:06] ENGINE Bus EXITING\n",
        "INFO:cherrypy.error:[20/Jun/2014:11:38:06] ENGINE Bus EXITED\n",
        "INFO:cherrypy.error:[20/Jun/2014:11:38:06] ENGINE HTTP Server cherrypy._cpwsgi_server.CPWSGIServer(('127.0.0.1', 8000)) already shut down\n",
        "INFO:cherrypy.error:[20/Jun/2014:11:38:06] ENGINE Bus STOPPING\n",
        "INFO:cherrypy.error:[20/Jun/2014:11:38:06] ENGINE HTTP Server cherrypy._cpwsgi_server.CPWSGIServer(('127.0.0.1', 8000)) already shut down\n",
        "INFO:cherrypy.error:[20/Jun/2014:11:38:06] ENGINE No thread running for None.\n",
        "INFO:cherrypy.error:[20/Jun/2014:11:38:06] ENGINE No thread running for None.\n",
        "INFO:cherrypy.error:[20/Jun/2014:11:38:06] ENGINE Bus STOPPED\n",
        "INFO:cherrypy.error:[20/Jun/2014:11:38:06] ENGINE Bus EXITING\n",
        "INFO:cherrypy.error:[20/Jun/2014:11:38:06] ENGINE Bus EXITED\n"
       ]
      },
      {
       "output_type": "stream",
       "stream": "stderr",
       "text": [
        "INFO:cherrypy.error:[20/Jun/2014:11:38:06] ENGINE Waiting for child threads to terminate...\n",
        "INFO:cherrypy.error:[20/Jun/2014:11:38:06] ENGINE Waiting for thread MainThread.\n"
       ]
      }
     ],
     "prompt_number": 4
    },
    {
     "cell_type": "code",
     "collapsed": false,
     "input": [
      "p1.stop_local_server()"
     ],
     "language": "python",
     "metadata": {},
     "outputs": []
    }
   ],
   "metadata": {}
  }
 ]
}